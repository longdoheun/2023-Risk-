{
  "nbformat": 4,
  "nbformat_minor": 0,
  "metadata": {
    "colab": {
      "provenance": []
    },
    "kernelspec": {
      "name": "python3",
      "display_name": "Python 3"
    },
    "language_info": {
      "name": "python"
    }
  },
  "cells": [
    {
      "cell_type": "markdown",
      "source": [
        "Strongly Recommend to Read and Understand the followings <br>\n",
        "Python tutorials, Numpy tutorial, and Pandas tutorial <br>\n",
        "from https://www.w3schools.com/python/default.asp <br>"
      ],
      "metadata": {
        "id": "wvExykJ3XMmz"
      }
    },
    {
      "cell_type": "markdown",
      "source": [
        "Part 1. <br>\n",
        "Type & Variable\n",
        "<br>\n",
        "<br>\n",
        "Basic Types\n",
        "*   Bool\n",
        "*   Integer\n",
        "*   Float\n",
        "*   String\n",
        "\n",
        "Declaration & Assigning value to a variable\n",
        "*   In Python, we can assign value to a variable using '='\n",
        "*   Like, var = 1\n",
        "\n",
        "In this class, we will not cover what \"object\" is.\n",
        "Whenever I mention \"object\", just think it as something in Python.\n",
        "\n",
        "\n",
        "\n"
      ],
      "metadata": {
        "id": "bkkB6Gd0-fkr"
      }
    },
    {
      "cell_type": "code",
      "source": [
        "# Declaring variables\n",
        "\n",
        "# Bool\n",
        "var_bool = True\n",
        "\n",
        "# Int\n",
        "var_int = 10\n",
        "\n",
        "# Float\n",
        "var_float = 2.58\n",
        "\n",
        "# String\n",
        "# To declare a string, both '' and \"\" are available in Python\n",
        "# But it would be great to use '' for character and \"\" for string\n",
        "var_char = 'A'\n",
        "var_str = \"Hello World!\"\n",
        "\n",
        "# We can print a varaible using print() function\n",
        "# To pring multiple varaibles at once use comma\n",
        "# To change the line, we can use empty print() or \\n\n",
        "print(var_bool)\n",
        "print(var_int)\n",
        "print()\n",
        "print(var_float)\n",
        "print(var_str)\n",
        "print(\"A\\nB\\nC\")\n",
        "print(var_bool, var_int, var_float, var_str)"
      ],
      "metadata": {
        "id": "N-lnrEFV-GMK"
      },
      "execution_count": null,
      "outputs": []
    },
    {
      "cell_type": "code",
      "source": [
        "# If we re-allocate a value into a variable, current value inside of the variable disappers.\n",
        "var = 10\n",
        "print(var)\n",
        "var = 20\n",
        "print(var)\n",
        "print()\n",
        "\n",
        "# Declaration of multiple variables at once is also possible\n",
        "var1, var2, var3 = 1,2,3\n",
        "print(var1, var2, var3)\n",
        "print()\n",
        "\n",
        "# We can swap two varaibles easily\n",
        "var1 = 10\n",
        "var2 = 20\n",
        "print(var1, var2)\n",
        "var1, var2 = var2, var1\n",
        "print(var1, var2)"
      ],
      "metadata": {
        "id": "IEuBuS3KHzVE"
      },
      "execution_count": null,
      "outputs": []
    },
    {
      "cell_type": "code",
      "source": [
        "# We can check type of a variable using type() function\n",
        "print(type(var_int))"
      ],
      "metadata": {
        "id": "pHtfz2dXBg57"
      },
      "execution_count": null,
      "outputs": []
    },
    {
      "cell_type": "code",
      "source": [
        "# With functions bool(), int(), float(), and str()\n",
        "# We can change the type of a variable\n",
        "var = 2.58\n",
        "print(var, type(var))\n",
        "var = int(var)\n",
        "print(var, type(var))\n",
        "var = str(var)\n",
        "print(var, type(var))"
      ],
      "metadata": {
        "id": "BAIw5yRZBg3p"
      },
      "execution_count": null,
      "outputs": []
    },
    {
      "cell_type": "code",
      "source": [
        "# f-string\n",
        "# There is a special format to represent a string in Python called \"f-string\"\n",
        "# It is a convenient way to handle string\n",
        "a = 10\n",
        "b = 12.5\n",
        "c = \"22.5\"\n",
        "var_fstring = f\"{a} plus {b} is {c}\"\n",
        "print(var_fstring, type(var_fstring))"
      ],
      "metadata": {
        "id": "kG7R2NJ0Bg0x"
      },
      "execution_count": null,
      "outputs": []
    },
    {
      "cell_type": "markdown",
      "source": [
        "Part 1. <br>\n",
        "Data Structure\n",
        "<br>\n",
        "<br>\n",
        "*   Tuple\n",
        "*   List\n",
        "*   Dictionary\n",
        "\n"
      ],
      "metadata": {
        "id": "U5mLjOkgER5D"
      }
    },
    {
      "cell_type": "code",
      "source": [
        "# tuple\n",
        "# Declare a tuple with ()\n",
        "var_tuple = (1,2,3)\n",
        "print(var_tuple, type(var_tuple))\n",
        "\n",
        "# Indexing tuple\n",
        "# Notice that the index number starts with 0\n",
        "print(var_tuple[0])\n",
        "print(var_tuple[1])\n",
        "print(var_tuple[2])"
      ],
      "metadata": {
        "id": "rQHR72BwBguC"
      },
      "execution_count": null,
      "outputs": []
    },
    {
      "cell_type": "code",
      "source": [
        "# List\n",
        "# Declare a list with []\n",
        "var_list = [1,2,3]\n",
        "print(var_list, type(var_list))\n",
        "\n",
        "# Indexing list\n",
        "print(var_list[0])\n",
        "print(var_list[1])\n",
        "print(var_list[2])"
      ],
      "metadata": {
        "id": "HD30p2ccG-Y8"
      },
      "execution_count": null,
      "outputs": []
    },
    {
      "cell_type": "code",
      "source": [
        "# Tuple VS. List\n",
        "# tuple is immutable, while list is mutable\n",
        "# mutable means that we can add, delect, and change the value of list\n",
        "\n",
        "var_list = [1,2,3]\n",
        "print(var_list)\n",
        "var_list[0] = -1 # We are replaceing 0th element of a list to -1\n",
        "print(var_list)"
      ],
      "metadata": {
        "id": "cLLMjqp5HPGE"
      },
      "execution_count": null,
      "outputs": []
    },
    {
      "cell_type": "code",
      "source": [
        "# Tuple is immutalbe\n",
        "var_tuple = (1,2,3)\n",
        "var_tuple[0] = 10"
      ],
      "metadata": {
        "id": "E5vYnf4mTpZE"
      },
      "execution_count": null,
      "outputs": []
    },
    {
      "cell_type": "code",
      "source": [
        "# List and its methods\n",
        "# Think \"method\" as a function related with an object\n",
        "# We can call method as object.method()\n",
        "\n",
        "# Let's start with the methods in list\n",
        "var_list = [] # This is an empty list\n",
        "print(var_list)\n",
        "var_list.append(1) # To append an element we can use .append()\n",
        "print(var_list)\n",
        "var_list.append(2)\n",
        "var_list.append(3)\n",
        "print()\n",
        "\n",
        "# .pop() method\n",
        "print(var_list)\n",
        "print(var_list.pop()) # Pop method pops an element which located in right end\n",
        "print(var_list) # Poped element is removed from the list\n",
        "print()\n",
        "\n",
        "# .remove(x) method removes element x if x is in the list\n",
        "# If x is not in the list, it will raise error\n",
        "var_list.remove(2)\n",
        "print(var_list)"
      ],
      "metadata": {
        "id": "_hGSEOIxI8LT"
      },
      "execution_count": null,
      "outputs": []
    },
    {
      "cell_type": "code",
      "source": [
        "# Dictionary\n",
        "# Dictionary is a data strucutre with key and value\n",
        "# Declare a dictionary with {}\n",
        "\n",
        "var_dict = {} # Here, we create an empty dictionary\n",
        "print(var_dict)\n",
        "var_dict[\"my_key\"] = 10000 # I save a value of 10000 with key \"my_key\"\n",
        "print(var_dict)\n",
        "print()\n",
        "\n",
        "# We can get the value only using the key\n",
        "print(var_dict[\"my_key\"])\n",
        "print()\n",
        "\n",
        "# Any type of data can be key and value of a dictionary\n",
        "var_dict[123] = \"Hi\"\n",
        "var_dict[(0,1,2)] = [0,1,2]\n",
        "var_dict[\"dict\"] = {0:1, 1:2} # Dictionary also can be a value of dictionary!\n",
        "print(var_dict)\n",
        "print()\n",
        "\n",
        "# Replace is also possible\n",
        "print(var_dict[\"dict\"])\n",
        "var_dict[\"dict\"] = {1:100, 2:200}\n",
        "print(var_dict[\"dict\"])\n",
        "print()\n",
        "\n",
        "# To remove a key-value, use del() function\n",
        "del(var_dict[\"dict\"])\n",
        "print(var_dict)"
      ],
      "metadata": {
        "id": "cCgvxxqiSJ7w"
      },
      "execution_count": null,
      "outputs": []
    },
    {
      "cell_type": "code",
      "source": [
        "# Methods of dictionary\n",
        "var_dict = {1:10, 2:20, 3:30}\n",
        "\n",
        "# .keys() returns dictionary keys\n",
        "print(var_dict.keys())\n",
        "print()\n",
        "# .values() returns dictionary values\n",
        "print(var_dict.values())\n",
        "print()\n",
        "# .items() returns (key,value) as tuple format\n",
        "print(var_dict.items())"
      ],
      "metadata": {
        "id": "On1yTxdLVM-f"
      },
      "execution_count": null,
      "outputs": []
    },
    {
      "cell_type": "markdown",
      "source": [
        "Conditional Statement\n",
        "<br>\n",
        "*   if, elif, else\n"
      ],
      "metadata": {
        "id": "I2B9SfPMR5YZ"
      }
    },
    {
      "cell_type": "code",
      "source": [
        "# if statement is used to check condition\n",
        "var = 10\n",
        "if var == 10:\n",
        "    print(var)\n",
        "\n",
        "var = 20\n",
        "if var == 10:\n",
        "    print(var)"
      ],
      "metadata": {
        "id": "pB1d6HLwSmgT"
      },
      "execution_count": null,
      "outputs": []
    },
    {
      "cell_type": "code",
      "source": [
        "# If the if~: condition is not met\n",
        "# elif (else if) condition is checked\n",
        "\n",
        "\n",
        "var = 10\n",
        "if var == 20:\n",
        "    print(\"this is if\", var)\n",
        "elif var == 10:\n",
        "    print(\"this is elif\", var)"
      ],
      "metadata": {
        "id": "NhOLGsSKS--t"
      },
      "execution_count": null,
      "outputs": []
    },
    {
      "cell_type": "code",
      "source": [
        "# if there exists met condition in front\n",
        "# following condition(s) are not checked\n",
        "\n",
        "def is_equal(x, y):\n",
        "    if x == y:\n",
        "        print(\"equal\")\n",
        "        return True\n",
        "\n",
        "var = 10\n",
        "if is_equal(var, 10):\n",
        "    print(\"if condition is met\")\n",
        "elif is_equal(var, 10):\n",
        "    print(\"elif condition is met\")"
      ],
      "metadata": {
        "id": "aENE3fZrT0UV"
      },
      "execution_count": null,
      "outputs": []
    },
    {
      "cell_type": "code",
      "source": [
        "# If no condition is met else ~ code will be executed\n",
        "\n",
        "var = 10\n",
        "if var == 1:\n",
        "    print(\"this is if\", var)\n",
        "elif var == 2:\n",
        "    print(\"this is elif\", var)\n",
        "else:\n",
        "    print(\"this is else\", var)"
      ],
      "metadata": {
        "id": "NDUZintZUqDL"
      },
      "execution_count": null,
      "outputs": []
    },
    {
      "cell_type": "markdown",
      "source": [
        "Loop\n",
        "<br>\n",
        "* For Loop\n",
        "* While Loop\n",
        "* pass, break, continue"
      ],
      "metadata": {
        "id": "NR5phY5WSeAI"
      }
    },
    {
      "cell_type": "code",
      "source": [
        "# for loop\n",
        "# for ~ in : iterates along iterable object\n",
        "\n",
        "# it repeats 'n' times, 'n' means the length of the iterable_object\n",
        "# For x in iterable_object:\n",
        "#   Do ~ ~ ~\n",
        "\n",
        "for i in [1,2,3]: # List is iterable\n",
        "    print(i)\n",
        "print()\n",
        "for i in (1,2,3): # Tuple is iterable\n",
        "    print(i)\n"
      ],
      "metadata": {
        "id": "mFs9RYW9R2fs"
      },
      "execution_count": null,
      "outputs": []
    },
    {
      "cell_type": "code",
      "source": [
        "# len() function is used to check the length of a variable\n",
        "print(len([1,2,3]))\n",
        "print(len(\"Hello\"))"
      ],
      "metadata": {
        "id": "be7ekc--Vz01"
      },
      "execution_count": null,
      "outputs": []
    },
    {
      "cell_type": "code",
      "source": [
        "for i in \"Hello\":\n",
        "    print(i)"
      ],
      "metadata": {
        "id": "aBWgO3KCR2da"
      },
      "execution_count": null,
      "outputs": []
    },
    {
      "cell_type": "code",
      "source": [
        "# For Loop with Conditional statement\n",
        "\n",
        "for i in [1,2,3,4]:\n",
        "    if i > 2:\n",
        "        print(i)"
      ],
      "metadata": {
        "id": "lUTotDhmWSbb"
      },
      "execution_count": null,
      "outputs": []
    },
    {
      "cell_type": "code",
      "source": [
        "# pass\n",
        "# pass just skips the 'pass' line\n",
        "for i in [1,2,3,4,5]:\n",
        "    if i == 1:\n",
        "        pass\n",
        "    elif i == 2:\n",
        "        print(i)\n",
        "    else:\n",
        "        print(f\"{i} is larger than 2\")\n",
        "print(\"done\")"
      ],
      "metadata": {
        "id": "gi20tb9sWR1d"
      },
      "execution_count": null,
      "outputs": []
    },
    {
      "cell_type": "code",
      "source": [
        "# continue\n",
        "# continue jumps to the next iteration\n",
        "for i in [1,2,3,4,5]:\n",
        "    if i == 1:\n",
        "        continue\n",
        "    elif i == 2:\n",
        "        print(i)\n",
        "    else:\n",
        "        print(f\"{i} is larger than 2\")\n",
        "print(\"done\")"
      ],
      "metadata": {
        "id": "9Wm3W2NPWlCc"
      },
      "execution_count": null,
      "outputs": []
    },
    {
      "cell_type": "code",
      "source": [
        "# break\n",
        "# break escapes from the current iteration\n",
        "for i in [1,2,3,4,5]:\n",
        "    if i == 1:\n",
        "        break\n",
        "    elif i == 2:\n",
        "        print(i)\n",
        "    else:\n",
        "        print(f\"{i} is larger than 2\")\n",
        "print(\"done\")"
      ],
      "metadata": {
        "id": "L4W5bRWeW5X8"
      },
      "execution_count": null,
      "outputs": []
    },
    {
      "cell_type": "code",
      "source": [
        "# while\n",
        "# while (condition):\n",
        "#   do ~~~\n",
        "\n",
        "cnt = 0\n",
        "\n",
        "while cnt < 5:\n",
        "    print(cnt)\n",
        "    cnt += 1"
      ],
      "metadata": {
        "id": "Tw1Py3HDXRqk"
      },
      "execution_count": null,
      "outputs": []
    },
    {
      "cell_type": "code",
      "source": [
        "# You can escape from the while loop using 'break'\n",
        "\n",
        "cnt = 0\n",
        "\n",
        "while True:\n",
        "    print(cnt)\n",
        "    cnt += 1\n",
        "    if cnt == 5:\n",
        "        break"
      ],
      "metadata": {
        "id": "HvUuNZhZXtTP"
      },
      "execution_count": null,
      "outputs": []
    },
    {
      "cell_type": "code",
      "source": [
        "# Ways to use for loop better\n",
        "# range() function\n",
        "\n",
        "res = []\n",
        "for i in range(10):\n",
        "    res.append(i)\n",
        "print(res)\n",
        "print()\n",
        "res = []\n",
        "for i in range(0, 11, 2):\n",
        "    res.append(i)\n",
        "print(res)"
      ],
      "metadata": {
        "id": "DnbYbPg9cHzp"
      },
      "execution_count": null,
      "outputs": []
    },
    {
      "cell_type": "code",
      "source": [
        "# with enumerate() function\n",
        "\n",
        "for i, val in enumerate(['H','e','l','l','o']):\n",
        "    print(i, val)"
      ],
      "metadata": {
        "id": "Ca6YFp1xcHxh"
      },
      "execution_count": null,
      "outputs": []
    },
    {
      "cell_type": "code",
      "source": [
        "# with zip() function\n",
        "\n",
        "for val1, val2 in zip(['a','b','c','d'], [1,2,3,4]):\n",
        "    print(f\"{val1}{val2}\")"
      ],
      "metadata": {
        "id": "6k1DPwoacyCN"
      },
      "execution_count": null,
      "outputs": []
    },
    {
      "cell_type": "code",
      "source": [
        "# with len() function\n",
        "\n",
        "for i in range(len([10,20,30,40])):\n",
        "    print(i)"
      ],
      "metadata": {
        "id": "pFnLQY_cc6-L"
      },
      "execution_count": null,
      "outputs": []
    },
    {
      "cell_type": "code",
      "source": [
        "# with dictionary\n",
        "\n",
        "var_dict = {\"key1\":123, \"key2\":321, \"key3\":\"hi\"}\n",
        "for key, value in var_dict.items():\n",
        "    print(key, value)"
      ],
      "metadata": {
        "id": "9lj-GP0seGCC"
      },
      "execution_count": null,
      "outputs": []
    },
    {
      "cell_type": "code",
      "source": [
        "# Nested loops\n",
        "\n",
        "for i in range(1, 10):\n",
        "    var_list = []\n",
        "    for j in range(1, 10):\n",
        "        var_list.append(i*j)\n",
        "    print(i, var_list)"
      ],
      "metadata": {
        "id": "_mAdv6vSedLe"
      },
      "execution_count": null,
      "outputs": []
    },
    {
      "cell_type": "code",
      "source": [
        "### Mini Project ###\n",
        "\n",
        "# Implementing Sieve of Eratosthenes\n",
        "# Refer https://en.wikipedia.org/wiki/Sieve_of_Eratosthenes\n",
        "# Find all primes between 1 ~ 10000\n",
        "# Consider 1 as not a prime.\n",
        "\n",
        "# You have to create two list variables\n",
        "# one to contain all the prime numbers\n",
        "# and the other to contain all numbers that are not prime number"
      ],
      "metadata": {
        "id": "y9me7pshiVsi"
      },
      "execution_count": null,
      "outputs": []
    }
  ]
}