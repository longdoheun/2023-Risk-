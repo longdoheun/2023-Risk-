{
  "cells": [
    {
      "cell_type": "markdown",
      "metadata": {
        "id": "wvExykJ3XMmz"
      },
      "source": [
        "Strongly Recommend to Read and Understand the followings <br>\n",
        "Python tutorials, Numpy tutorial, and Pandas tutorial <br>\n",
        "from https://www.w3schools.com/python/default.asp <br>"
      ]
    },
    {
      "cell_type": "markdown",
      "metadata": {
        "id": "bkkB6Gd0-fkr"
      },
      "source": [
        "Part 2. <br>\n",
        "Indentation Grammer\n",
        "<br>\n",
        "<br>\n",
        "In Python, grammer blcok is distingusihed by indentation,\n",
        "Python standard suggests to use Tab key (as 4 spaces) for indentation"
      ]
    },
    {
      "cell_type": "code",
      "execution_count": null,
      "metadata": {
        "id": "xtn3bPcTBqqT"
      },
      "outputs": [],
      "source": [
        "# Indentation in Loop\n",
        "\n",
        "for i in range(10): # Loop starts\n",
        "    print(\"Hello World!\") # \"print(i)\" is with indentation, so it belongs to for loop\n",
        "\n",
        "print(\"Loop Ends\") # Since this line has no indentation, it is not in the loop"
      ]
    },
    {
      "cell_type": "code",
      "execution_count": null,
      "metadata": {
        "id": "KPyBuNwtDYxU"
      },
      "outputs": [],
      "source": [
        "# Indentation in Loop\n",
        "# Case of nested loop\n",
        "\n",
        "for i in range(3): # Loop1 starts\n",
        "    # for every Loop1, below code will be executed\n",
        "    print(\"Loop1\", i)\n",
        "    tmp_list = []\n",
        "    for j in range(3): # Loop 2 starts, since this is in Loop1, Loop2 will be repeated 3 times\n",
        "        # For every Loop2, below code will be executed\n",
        "        tmp_list.append(i*j)\n",
        "\n",
        "    print(tmp_list) # This code is in Loop1 only.\n",
        "\n",
        "print(\"Loop Ends\") # Since this line has no indentation, it is not in both Loop1 and Loop2."
      ]
    },
    {
      "cell_type": "markdown",
      "metadata": {
        "id": "l0AW4dD2Eqic"
      },
      "source": [
        "Part 2. <br>\n",
        "Function\n",
        "<br>\n",
        "<br>\n",
        "Function has a predefined code, a set of instructions\n",
        "\n",
        "In Python we can define a function using \"def\"\n",
        "You can use other functions inside of a funcion\n",
        "\n",
        "<br>\n",
        "def hello_world_printer():\n",
        "<br>\n",
        "&emsp; print(\"Hello World\") # tab indentation"
      ]
    },
    {
      "cell_type": "code",
      "execution_count": null,
      "metadata": {
        "id": "eGIxRUWRHAWX"
      },
      "outputs": [],
      "source": [
        "def hello_world_printer():\n",
        "    print(\"Hello World\")\n",
        "\n",
        "hello_world_printer() # Calling a function, function()"
      ]
    },
    {
      "cell_type": "markdown",
      "metadata": {
        "id": "i51V_JjIFmzo"
      },
      "source": [
        "Parameters(arguments) are inputs of a function <br>\n",
        "<br>\n",
        "def string_printer(mystring):\n",
        "<br>\n",
        "&emsp; print(mystring)\n",
        "<br>\n",
        "<br>\n",
        "In this example function,\n",
        "I set parameter \"mystring\"\n",
        "<br>\n",
        "<br>\n",
        "string_printer(\"Hello\") # calling a function with argument \"Hello\"\n",
        "<br>\n",
        "<br>\n",
        "\n",
        "More precisely,<br>\n",
        "Parameter is the variable in the declaration of the function <br>\n",
        "Argument is the actual value of this variable that gets passed to the function"
      ]
    },
    {
      "cell_type": "code",
      "execution_count": null,
      "metadata": {
        "id": "VzGQTHe8Fiqt"
      },
      "outputs": [],
      "source": [
        "# Function with parameter\n",
        "def string_printer(mystring):\n",
        "    print(mystring)\n",
        "\n",
        "string_printer() # This raises an error"
      ]
    },
    {
      "cell_type": "code",
      "execution_count": null,
      "metadata": {
        "id": "QjRvsKUAHVV_"
      },
      "outputs": [],
      "source": [
        "string_printer(\"Hello\") # With an argument, it works well"
      ]
    },
    {
      "cell_type": "code",
      "execution_count": null,
      "metadata": {
        "id": "sH5IJ6WkHnC_"
      },
      "outputs": [],
      "source": [
        "# Function with multiple parameters\n",
        "\n",
        "def big_or_small(a, b):\n",
        "    if a > b:\n",
        "        print(f\"a:{a} is bigger than b:{b}\")\n",
        "    elif a < b:\n",
        "        print(f\"a:{a} is smaller than b:{b}\")\n",
        "    else:\n",
        "        print(f\"a:{a} and b:{b} are equal\")"
      ]
    },
    {
      "cell_type": "code",
      "execution_count": null,
      "metadata": {
        "id": "zQHg3-RuIGbY"
      },
      "outputs": [],
      "source": [
        "big_or_small(1) # If I give only one argument, it raises an error"
      ]
    },
    {
      "cell_type": "code",
      "execution_count": null,
      "metadata": {
        "id": "bsgv9-HjIN1m"
      },
      "outputs": [],
      "source": [
        "big_or_small(10, 5)"
      ]
    },
    {
      "cell_type": "code",
      "execution_count": null,
      "metadata": {
        "id": "jmCMtVxqImfD"
      },
      "outputs": [],
      "source": [
        "# Type of parameter for a function is not limited\n",
        "# Even a function an be an arugment\n",
        "\n",
        "def hello_printer():\n",
        "    print(\"Hello\")\n",
        "\n",
        "def world_printer():\n",
        "    print(\"World\")\n",
        "\n",
        "def function_caller(other_function):\n",
        "    print(\"function start\")\n",
        "    other_function()\n",
        "    print(\"function end\")"
      ]
    },
    {
      "cell_type": "code",
      "execution_count": null,
      "metadata": {
        "id": "Zcmw-LKMCfew"
      },
      "outputs": [],
      "source": [
        "type(hello_printer)"
      ]
    },
    {
      "cell_type": "code",
      "execution_count": null,
      "metadata": {
        "id": "rxS6O5S5CjcX"
      },
      "outputs": [],
      "source": [
        "type(hello_printer())"
      ]
    },
    {
      "cell_type": "code",
      "execution_count": null,
      "metadata": {
        "id": "_oMQOMYcJTB4"
      },
      "outputs": [],
      "source": [
        "function_caller(hello_printer)"
      ]
    },
    {
      "cell_type": "code",
      "execution_count": null,
      "metadata": {
        "id": "Gd-vrOKXJW8Z"
      },
      "outputs": [],
      "source": [
        "function_caller(world_printer)"
      ]
    },
    {
      "cell_type": "code",
      "execution_count": null,
      "metadata": {
        "id": "moPw-kERcAMB"
      },
      "outputs": [],
      "source": [
        "# Function return\n",
        "\n",
        "def calculate_addtion(a,b):\n",
        "    result = a+b\n",
        "    return result"
      ]
    },
    {
      "cell_type": "code",
      "execution_count": null,
      "metadata": {
        "id": "Y-rqIvznDUF3"
      },
      "outputs": [],
      "source": [
        "type(calculate_addtion)"
      ]
    },
    {
      "cell_type": "code",
      "execution_count": null,
      "metadata": {
        "id": "YlrNldMKDWl5"
      },
      "outputs": [],
      "source": [
        "type(calculate_addtion(10,5))"
      ]
    },
    {
      "cell_type": "code",
      "execution_count": null,
      "metadata": {
        "id": "YY-M1S1ucAHq"
      },
      "outputs": [],
      "source": [
        "print(calculate_addtion(10,5))"
      ]
    },
    {
      "cell_type": "markdown",
      "metadata": {
        "id": "gDQ9w1ruJblO"
      },
      "source": [
        "Part 2 <br>\n",
        "Package/Library\n",
        "\n",
        "Some people already creates some useful objects and functions <br>\n",
        "Most of them are open-source, which means that we can access their source code and use it freely\n",
        "<br>\n",
        "<br>\n",
        "There are some famous ones like\n",
        "* Numpy\n",
        "* Pandas\n",
        "* Matplotlib\n",
        "* etc...\n",
        "\n"
      ]
    },
    {
      "cell_type": "code",
      "execution_count": null,
      "metadata": {
        "id": "mztW0Gn5JaXY"
      },
      "outputs": [],
      "source": [
        "# In Colab, you can install packages by\n",
        "# !pip install \"package name\"\n",
        "!pip install numpy"
      ]
    },
    {
      "cell_type": "code",
      "execution_count": null,
      "metadata": {
        "id": "WFIrR5FbJaVA"
      },
      "outputs": [],
      "source": [
        "# We can use packages using \"import\"\n",
        "import numpy"
      ]
    },
    {
      "cell_type": "code",
      "execution_count": null,
      "metadata": {
        "id": "dr6GwyZrJaS3"
      },
      "outputs": [],
      "source": [
        "numpy.__version__"
      ]
    },
    {
      "cell_type": "code",
      "execution_count": null,
      "metadata": {
        "id": "_LNczmMNK4ri"
      },
      "outputs": [],
      "source": [
        "# For convenience, some popular packages are imported as conventional shortname\n",
        "# numpy as np, pandas as pd, matplotlib.pyplot as plt\n",
        "import numpy as np"
      ]
    },
    {
      "cell_type": "code",
      "execution_count": null,
      "metadata": {
        "id": "djmYztqHLRUF"
      },
      "outputs": [],
      "source": [
        "np.__version__"
      ]
    },
    {
      "cell_type": "code",
      "execution_count": null,
      "metadata": {
        "id": "AsOBStG3Mcxy"
      },
      "outputs": [],
      "source": [
        "# To master a library, reading project documentation is the best\n",
        "# Here is the official document for Numpy\n",
        "# \"https://numpy.org/doc/1.25/user/index.html#user\""
      ]
    },
    {
      "cell_type": "markdown",
      "metadata": {
        "id": "RKWxMpH1SFyn"
      },
      "source": [
        "Numpy"
      ]
    },
    {
      "cell_type": "code",
      "execution_count": null,
      "metadata": {
        "id": "id6_a52MN-Uz"
      },
      "outputs": [],
      "source": [
        "# Numpy is for mathematical calculations\n",
        "# It is fast and efficient than pure Python\n",
        "import numpy as np"
      ]
    },
    {
      "cell_type": "code",
      "execution_count": null,
      "metadata": {
        "id": "KHHDDJGtN-So"
      },
      "outputs": [],
      "source": [
        "# Most numpy features are related with a numpy object called numpy.ndarray\n",
        "# Think it as a vector in linear algebra\n",
        "np_arr1 = np.array([1,2,3,4,5])\n",
        "np_arr2 = np.array([1,2,3,4,5])"
      ]
    },
    {
      "cell_type": "code",
      "execution_count": null,
      "metadata": {
        "id": "eWh0wYdEOlv4"
      },
      "outputs": [],
      "source": [
        "print(type(np_arr1))\n",
        "print(np_arr1)\n",
        "print(np_arr1[0])\n",
        "print(np_arr1[-1])"
      ]
    },
    {
      "cell_type": "code",
      "execution_count": null,
      "metadata": {
        "id": "SqbfhleDFGOl"
      },
      "outputs": [],
      "source": [
        "[1,2,3] + [1,2,3,4,5]"
      ]
    },
    {
      "cell_type": "code",
      "execution_count": null,
      "metadata": {
        "id": "QWVJsJC_N-QP"
      },
      "outputs": [],
      "source": [
        "np_arr1 + np_arr2"
      ]
    },
    {
      "cell_type": "code",
      "execution_count": null,
      "metadata": {
        "id": "UAWY4ipNFW-A"
      },
      "outputs": [],
      "source": [
        "np.array([1,2,3]) + np.array([1,2,3,4,5])"
      ]
    },
    {
      "cell_type": "code",
      "execution_count": null,
      "metadata": {
        "id": "adfJu7iuN-OK"
      },
      "outputs": [],
      "source": [
        "np_arr1 * np_arr2"
      ]
    },
    {
      "cell_type": "code",
      "execution_count": null,
      "metadata": {
        "id": "WQmssFFJN-MF"
      },
      "outputs": [],
      "source": [
        "np.dot(np_arr1, np_arr2)"
      ]
    },
    {
      "cell_type": "code",
      "execution_count": null,
      "metadata": {
        "id": "a2QslTeFN-J6"
      },
      "outputs": [],
      "source": [
        "np_arr1 @ np_arr2"
      ]
    },
    {
      "cell_type": "code",
      "execution_count": null,
      "metadata": {
        "id": "GKxmXbsAPE_G"
      },
      "outputs": [],
      "source": [
        "# Creating 3 by 3 matrix\n",
        "np_mat = np.array(\n",
        "    [\n",
        "    [1,2,3],\n",
        "    [4,5,6],\n",
        "    [7,8,9]\n",
        "    ]\n",
        ")\n",
        "\n",
        "np_arr = np.array([1,1,1])\n",
        "np_arr_v = np.array([[1],[1],[1]])"
      ]
    },
    {
      "cell_type": "code",
      "execution_count": null,
      "metadata": {
        "id": "zOEfnAzxPE3y"
      },
      "outputs": [],
      "source": [
        "np_mat @ np_arr"
      ]
    },
    {
      "cell_type": "code",
      "execution_count": null,
      "metadata": {
        "id": "LHxNO_m0Pe2d"
      },
      "outputs": [],
      "source": [
        "np.dot(np_mat, np_arr)"
      ]
    },
    {
      "cell_type": "code",
      "execution_count": null,
      "metadata": {
        "id": "_1clTH4ePolq"
      },
      "outputs": [],
      "source": [
        "# 2 by 3 matrix\n",
        "np_mat = np.array(\n",
        "    [\n",
        "    [4,5,6],\n",
        "    [7,8,9]]\n",
        ")\n",
        "\n",
        "np_arr = np.array([1,1,1])"
      ]
    },
    {
      "cell_type": "code",
      "execution_count": null,
      "metadata": {
        "id": "PdSmF25oGckZ"
      },
      "outputs": [],
      "source": [
        "np_mat.shape"
      ]
    },
    {
      "cell_type": "code",
      "execution_count": null,
      "metadata": {
        "id": "OnldS-i0P9c_"
      },
      "outputs": [],
      "source": [
        "np_arr @ np_mat"
      ]
    },
    {
      "cell_type": "code",
      "execution_count": null,
      "metadata": {
        "id": "97MjLqkUPojG"
      },
      "outputs": [],
      "source": [
        "np.dot(np_arr, np_mat)"
      ]
    },
    {
      "cell_type": "code",
      "execution_count": null,
      "metadata": {
        "id": "99DqUCitPzYT"
      },
      "outputs": [],
      "source": [
        "np.dot(np_mat, np_arr)"
      ]
    },
    {
      "cell_type": "code",
      "execution_count": null,
      "metadata": {
        "id": "mMeDy48RHjvw"
      },
      "outputs": [],
      "source": [
        "np_mat"
      ]
    },
    {
      "cell_type": "code",
      "execution_count": null,
      "metadata": {
        "id": "IIn3YpRHQESt"
      },
      "outputs": [],
      "source": [
        "# Transpose\n",
        "np_mat.transpose()"
      ]
    },
    {
      "cell_type": "code",
      "execution_count": null,
      "metadata": {
        "id": "-a9qs38cQEQv"
      },
      "outputs": [],
      "source": [
        "# Transpose\n",
        "np_mat.T"
      ]
    },
    {
      "cell_type": "code",
      "execution_count": null,
      "metadata": {
        "id": "AsfzJpoBQN9H"
      },
      "outputs": [],
      "source": [
        "# Calculating some statistics\n",
        "np_arr = np.array([1,2,3,4,5,6,7,9,10])\n",
        "print(\"mean\", np.mean(np_arr))\n",
        "print(\"std\", np.std(np_arr))"
      ]
    },
    {
      "cell_type": "code",
      "execution_count": null,
      "metadata": {
        "id": "gvqMSERJQN6t"
      },
      "outputs": [],
      "source": [
        "# Reshape\n",
        "np_arr = np.array([1,2,3,4,5,6,7,8,9])\n",
        "np_mat = np_arr.reshape((3,3))\n",
        "np_mat"
      ]
    },
    {
      "cell_type": "code",
      "execution_count": null,
      "metadata": {
        "id": "K_sUo1bKQN4i"
      },
      "outputs": [],
      "source": [
        "# Reshape\n",
        "np_arr = np.array([1,2,3,4,5,6])\n",
        "np_mat = np_arr.reshape((2,-1))\n",
        "np_mat"
      ]
    },
    {
      "cell_type": "code",
      "execution_count": null,
      "metadata": {
        "id": "tIoVf-3aQyO9"
      },
      "outputs": [],
      "source": [
        "# 2 by 2 matrix\n",
        "np_mat = np.array([[1,2],[3,4]])\n",
        "print(np_mat)\n",
        "# Indexing is arr[row][col]\n",
        "print(np_mat[0][1])\n",
        "print(np_mat[1][1])"
      ]
    },
    {
      "cell_type": "code",
      "execution_count": null,
      "metadata": {
        "id": "ybHvWxPzROie"
      },
      "outputs": [],
      "source": [
        "# Masking with np.where\n",
        "\n",
        "np_arr = np.array([1,2,3,4,5])\n",
        "\n",
        "print(np.where(np_arr>=3)) # np.where function returns indices of where the given condition is True\n",
        "# Using this we can access on an array where the condtion is met\n",
        "print(np_arr[np.where(np_arr>=3)])"
      ]
    },
    {
      "cell_type": "markdown",
      "metadata": {
        "id": "Hwt5SAySSBMZ"
      },
      "source": [
        "Pandas"
      ]
    },
    {
      "cell_type": "code",
      "execution_count": null,
      "metadata": {
        "id": "JdsdtUIFROgF"
      },
      "outputs": [],
      "source": [
        "# pandas is for handling data\n",
        "# If your are R user, it is same as R dataframe\n",
        "# pandas has pandas.DataFrame"
      ]
    },
    {
      "cell_type": "code",
      "execution_count": null,
      "metadata": {
        "id": "ND30YV_VROaF"
      },
      "outputs": [],
      "source": [
        "import pandas as pd"
      ]
    },
    {
      "cell_type": "code",
      "execution_count": null,
      "metadata": {
        "id": "HFiPE7w2QyMY"
      },
      "outputs": [],
      "source": [
        "pd.__version__"
      ]
    },
    {
      "cell_type": "markdown",
      "metadata": {
        "id": "UCgP8QYINsOT"
      },
      "source": [
        "Connect to your Google Drive\n",
        "<br>\n",
        "<br>\n",
        "To access on files in your google drive, we have to connect the colab noteboox to your dirve"
      ]
    },
    {
      "cell_type": "code",
      "execution_count": null,
      "metadata": {
        "id": "YYo6CXgcNrgx"
      },
      "outputs": [],
      "source": [
        "from google.colab import drive\n",
        "drive.mount('/content/drive')"
      ]
    },
    {
      "cell_type": "code",
      "execution_count": null,
      "metadata": {
        "id": "8JMS8mbWSYM2"
      },
      "outputs": [],
      "source": [
        "# pd.read_csv()\n",
        "df = pd.read_csv(\"/content/drive/MyDrive/Colab Notebooks/Risk_n_PM/crsp-2.csv\") # /content/drive/MyDrive/Colab Notebooks/YOUR OWN LOCATION/"
      ]
    },
    {
      "cell_type": "code",
      "execution_count": null,
      "metadata": {
        "id": "Q0_9QIfWS7qB"
      },
      "outputs": [],
      "source": [
        "df"
      ]
    },
    {
      "cell_type": "code",
      "execution_count": null,
      "metadata": {
        "id": "Ly-6OWe-S_Ny"
      },
      "outputs": [],
      "source": [
        "df.columns"
      ]
    },
    {
      "cell_type": "code",
      "execution_count": null,
      "metadata": {
        "id": "St4f7qViTBkS"
      },
      "outputs": [],
      "source": [
        "df.index"
      ]
    },
    {
      "cell_type": "code",
      "execution_count": null,
      "metadata": {
        "id": "C-rHRlS-TUXV"
      },
      "outputs": [],
      "source": [
        "df.head(5)"
      ]
    },
    {
      "cell_type": "code",
      "execution_count": null,
      "metadata": {
        "id": "f3e5GWdvTV1B"
      },
      "outputs": [],
      "source": [
        "df.tail(5)"
      ]
    },
    {
      "cell_type": "code",
      "execution_count": null,
      "metadata": {
        "id": "bPi0Ic0yTFmR"
      },
      "outputs": [],
      "source": [
        "df[\"date\"]"
      ]
    },
    {
      "cell_type": "code",
      "execution_count": null,
      "metadata": {
        "id": "SegANVotTIaO"
      },
      "outputs": [],
      "source": [
        "df[[\"date\",\"ret\"]]"
      ]
    },
    {
      "cell_type": "code",
      "execution_count": null,
      "metadata": {
        "id": "hyPzkTsTKqwo"
      },
      "outputs": [],
      "source": [
        "df"
      ]
    },
    {
      "cell_type": "code",
      "execution_count": null,
      "metadata": {
        "id": "hU4i6ZQkTQc2"
      },
      "outputs": [],
      "source": [
        "# DataFrame indexing - using \".loc\"\n",
        "\n",
        "df.loc[0, \"date\"] # df.loc[index_name, column_name]"
      ]
    },
    {
      "cell_type": "code",
      "execution_count": null,
      "metadata": {
        "id": "fpVxHPlrTo1d"
      },
      "outputs": [],
      "source": [
        "df.loc[[0,1,2], \"date\"]"
      ]
    },
    {
      "cell_type": "code",
      "execution_count": null,
      "metadata": {
        "id": "gXJOGVYtTsFB"
      },
      "outputs": [],
      "source": [
        "# DataFrame indexing - using \".iloc\"\n",
        "df.iloc[0,2]"
      ]
    },
    {
      "cell_type": "code",
      "execution_count": null,
      "metadata": {
        "id": "W7QJTm93T01h"
      },
      "outputs": [],
      "source": [
        "df.iloc[0, 0:4]"
      ]
    },
    {
      "cell_type": "code",
      "execution_count": null,
      "metadata": {
        "id": "Zqa_w215T-g7"
      },
      "outputs": [],
      "source": [
        "df[\"permno\"] * 2"
      ]
    },
    {
      "cell_type": "code",
      "execution_count": null,
      "metadata": {
        "id": "4YoxbWD1T-eE"
      },
      "outputs": [],
      "source": [
        "df[\"permno\"] + df[\"permno\"]"
      ]
    },
    {
      "cell_type": "code",
      "execution_count": null,
      "metadata": {
        "id": "3jj7OX57LcFQ"
      },
      "outputs": [],
      "source": [
        "df.values"
      ]
    },
    {
      "cell_type": "code",
      "execution_count": null,
      "metadata": {
        "id": "Wukg-5ytUbv0"
      },
      "outputs": [],
      "source": [
        "# DataFrame Masking\n",
        "df[df[\"permno\"] >= 50000]\n",
        "\n",
        "# df[\"permno\"] >= 50000 -> returns indices where given condition is met"
      ]
    },
    {
      "cell_type": "code",
      "execution_count": null,
      "metadata": {
        "id": "h3_KiMPoVBmH"
      },
      "outputs": [],
      "source": [
        "# Statistics with DataFrame\n",
        "print(\"mean\", df[\"ret\"].mean())\n",
        "print(\"std\", df[\"ret\"].std())\n",
        "print(\"skew\", df[\"ret\"].skew())\n",
        "print(\"kurt\", df[\"ret\"].kurt())"
      ]
    },
    {
      "cell_type": "code",
      "execution_count": null,
      "metadata": {
        "id": "oeCEAMiNVJh-"
      },
      "outputs": [],
      "source": [
        "# checking data type\n",
        "df.dtypes"
      ]
    },
    {
      "cell_type": "code",
      "execution_count": null,
      "metadata": {
        "id": "AGtmb7C6MBWO"
      },
      "outputs": [],
      "source": [
        "df"
      ]
    },
    {
      "cell_type": "code",
      "execution_count": null,
      "metadata": {
        "id": "l-h5lF7AViZa"
      },
      "outputs": [],
      "source": [
        "# Convert date into pd.datetime data type\n",
        "df[\"date\"] = pd.to_datetime(df[\"date\"])\n",
        "df.dtypes"
      ]
    },
    {
      "cell_type": "code",
      "execution_count": null,
      "metadata": {
        "id": "zptJW2ipMM4u"
      },
      "outputs": [],
      "source": [
        "df"
      ]
    },
    {
      "cell_type": "code",
      "execution_count": null,
      "metadata": {
        "id": "GOldMvLpXqu3"
      },
      "outputs": [],
      "source": [
        "df[\"ret\"].plot()"
      ]
    },
    {
      "cell_type": "code",
      "execution_count": null,
      "metadata": {
        "id": "A7V-NLutMaaF"
      },
      "outputs": [],
      "source": [
        "df"
      ]
    },
    {
      "cell_type": "code",
      "execution_count": null,
      "metadata": {
        "id": "PSp2KocnYWWS"
      },
      "outputs": [],
      "source": [
        "# Pivot\n",
        "df_ret = pd.pivot_table(df, \"ret\", \"date\", columns=\"permno\")"
      ]
    },
    {
      "cell_type": "code",
      "execution_count": null,
      "metadata": {
        "id": "YxUlHIhbYhmf"
      },
      "outputs": [],
      "source": [
        "df_ret"
      ]
    },
    {
      "cell_type": "markdown",
      "metadata": {
        "id": "VndgWm7qX2jC"
      },
      "source": [
        "Matplotlib.pyplot"
      ]
    },
    {
      "cell_type": "code",
      "execution_count": null,
      "metadata": {
        "id": "R4ZwuJr2XqsO"
      },
      "outputs": [],
      "source": [
        "# matplotlib is a drawing tool"
      ]
    },
    {
      "cell_type": "code",
      "execution_count": null,
      "metadata": {
        "id": "C4_-HrK4X86m"
      },
      "outputs": [],
      "source": [
        "import matplotlib.pyplot as plt"
      ]
    },
    {
      "cell_type": "code",
      "execution_count": null,
      "metadata": {
        "id": "141itaTOYGTl"
      },
      "outputs": [],
      "source": [
        "target_ret = df_ret[10104]\n",
        "\n",
        "plt.figure()\n",
        "plt.plot(df_ret.index, target_ret)\n",
        "plt.show()"
      ]
    },
    {
      "cell_type": "code",
      "execution_count": null,
      "metadata": {
        "id": "9OWoupEuYGRb"
      },
      "outputs": [],
      "source": [
        "plt.figure()\n",
        "plt.scatter(df_ret.index, target_ret)\n",
        "plt.show()"
      ]
    },
    {
      "cell_type": "code",
      "execution_count": null,
      "metadata": {
        "id": "VDfiNrzCZYuY"
      },
      "outputs": [],
      "source": [
        "plt.figure()\n",
        "plt.scatter(df_ret.index, df_ret[10104])\n",
        "plt.scatter(df_ret.index, df_ret[10107])\n",
        "plt.show()"
      ]
    },
    {
      "cell_type": "code",
      "execution_count": null,
      "metadata": {
        "id": "fSLLeSQZZYr1"
      },
      "outputs": [],
      "source": [
        "plt.figure()\n",
        "plt.scatter(df_ret.index, df_ret[10104], label=10104)\n",
        "plt.scatter(df_ret.index, df_ret[10107], label=10107)\n",
        "plt.legend()\n",
        "plt.show()"
      ]
    },
    {
      "cell_type": "code",
      "execution_count": null,
      "metadata": {
        "id": "A2VvzhXHZiAi"
      },
      "outputs": [],
      "source": [
        "plt.figure()\n",
        "plt.scatter(df_ret.index, df_ret[10104], label=\"scatter\")\n",
        "plt.plot(df_ret.index, df_ret[10104], label=\"line\")\n",
        "plt.legend()\n",
        "plt.show()"
      ]
    },
    {
      "cell_type": "code",
      "execution_count": null,
      "metadata": {
        "id": "SP4NHNd7Zh-7"
      },
      "outputs": [],
      "source": [
        "plt.figure()\n",
        "plt.scatter(df_ret.index, df_ret[10104], label=\"scatter\")\n",
        "plt.plot(df_ret.index, df_ret[10104], label=\"line\", c=\"skyblue\", alpha=0.7)\n",
        "plt.legend()\n",
        "plt.show()"
      ]
    },
    {
      "cell_type": "code",
      "execution_count": null,
      "metadata": {
        "id": "rPgNduMoZy2X"
      },
      "outputs": [],
      "source": [
        "plt.figure()\n",
        "plt.hist(df_ret[10104])\n",
        "plt.show()"
      ]
    },
    {
      "cell_type": "code",
      "execution_count": null,
      "metadata": {
        "id": "Pj7ryL7nZy0S"
      },
      "outputs": [],
      "source": [
        "plt.figure()\n",
        "plt.hist(df_ret[10104], bins=100)\n",
        "plt.show()"
      ]
    },
    {
      "cell_type": "code",
      "execution_count": null,
      "metadata": {
        "id": "mDIbFVQgbbAj"
      },
      "outputs": [],
      "source": [
        "# Practice Problems\n",
        "\n",
        "# P1)\n",
        "# Create a function that takes a interger as an input\n",
        "# if the interger is a prime number, it prints \"prime\"\n",
        "# otherwise, it returns a list filled with factors of the input integer\n",
        "\n",
        "# P2)\n",
        "# Create 3 by 3 matrix 'A' with numbers 1 ~ 9\n",
        "# Make it as upper triangular matrix (use matrix indexing to change value mat[1][p] = 0)\n",
        "# (Matrix Mulplication) multiply A and A transpose\n",
        "\n",
        "# P3)\n",
        "# Pick any stock,\n",
        "# Draw the followings together\n",
        "# a scatter plot of stock returns\n",
        "# a constant line, value of constant is average return\n",
        "# two more constant line, one is (average return + 1.96 * standard deviation of returns), and the other is (average return - 1.96 * standard deviation of returns)"
      ]
    },
    {
      "cell_type": "code",
      "execution_count": 1,
      "metadata": {},
      "outputs": [],
      "source": [
        "def detect_prime(integer):\n",
        "  factors = []\n",
        "\n",
        "  for factor_candidate in range(1,integer+1):\n",
        "    if integer % factor_candidate == 0:\n",
        "      factors.append(factor_candidate)\n",
        "  \n",
        "\n",
        "  if len(factors) == 2:\n",
        "    print(\"prime\")\n",
        "  else:\n",
        "    return factors"
      ]
    },
    {
      "cell_type": "code",
      "execution_count": 2,
      "metadata": {},
      "outputs": [
        {
          "name": "stdout",
          "output_type": "stream",
          "text": [
            "prime\n"
          ]
        }
      ],
      "source": [
        "detect_prime(7)"
      ]
    },
    {
      "cell_type": "code",
      "execution_count": 4,
      "metadata": {},
      "outputs": [],
      "source": [
        "import numpy as np"
      ]
    },
    {
      "cell_type": "code",
      "execution_count": 6,
      "metadata": {},
      "outputs": [
        {
          "data": {
            "text/plain": [
              "array([[1, 2, 3, 4, 5, 6, 7, 8, 9]])"
            ]
          },
          "execution_count": 6,
          "metadata": {},
          "output_type": "execute_result"
        }
      ],
      "source": [
        "li  = [i for i in range(1,10)]\n",
        "A = np.array([li])\n",
        "A"
      ]
    },
    {
      "cell_type": "code",
      "execution_count": 7,
      "metadata": {},
      "outputs": [
        {
          "data": {
            "text/plain": [
              "array([[1, 2, 3],\n",
              "       [4, 5, 6],\n",
              "       [7, 8, 9]])"
            ]
          },
          "execution_count": 7,
          "metadata": {},
          "output_type": "execute_result"
        }
      ],
      "source": [
        "A = A.reshape(3,-1)\n",
        "A"
      ]
    },
    {
      "cell_type": "code",
      "execution_count": 10,
      "metadata": {},
      "outputs": [
        {
          "data": {
            "text/plain": [
              "array([[1, 2, 3],\n",
              "       [0, 5, 6],\n",
              "       [0, 0, 9]])"
            ]
          },
          "execution_count": 10,
          "metadata": {},
          "output_type": "execute_result"
        }
      ],
      "source": [
        "A[1][0] = 0\n",
        "A[2][0] = 0\n",
        "A[2][1] = 0\n",
        "A"
      ]
    },
    {
      "cell_type": "code",
      "execution_count": 11,
      "metadata": {},
      "outputs": [
        {
          "data": {
            "text/plain": [
              "array([[14, 28, 27],\n",
              "       [28, 61, 54],\n",
              "       [27, 54, 81]])"
            ]
          },
          "execution_count": 11,
          "metadata": {},
          "output_type": "execute_result"
        }
      ],
      "source": [
        "np.dot(A, A.T)"
      ]
    }
  ],
  "metadata": {
    "colab": {
      "provenance": []
    },
    "kernelspec": {
      "display_name": "Python 3",
      "name": "python3"
    },
    "language_info": {
      "codemirror_mode": {
        "name": "ipython",
        "version": 3
      },
      "file_extension": ".py",
      "mimetype": "text/x-python",
      "name": "python",
      "nbconvert_exporter": "python",
      "pygments_lexer": "ipython3",
      "version": "3.11.4"
    }
  },
  "nbformat": 4,
  "nbformat_minor": 0
}
